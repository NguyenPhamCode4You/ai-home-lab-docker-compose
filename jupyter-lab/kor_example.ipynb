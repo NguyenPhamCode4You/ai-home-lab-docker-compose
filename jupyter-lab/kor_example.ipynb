{
 "cells": [
  {
   "cell_type": "code",
   "execution_count": null,
   "metadata": {
    "vscode": {
     "languageId": "plaintext"
    }
   },
   "outputs": [],
   "source": [
    "from kor.extraction import create_extraction_chain\n",
    "from kor.nodes import Object, Text, Number\n",
    "from langchain_openai import ChatOpenAI\n",
    "schema = Object(\n",
    "  id=\"person\",\n",
    "  description=\"Personal information\",\n",
    "  examples=[\n",
    "      (\"Alice and Bob are friends\", [{\"first_name\": \"Alice\"}, {\"first_name\": \"Bob\"}])\n",
    "  ],\n",
    "  attributes=[\n",
    "      Text(\n",
    "          id=\"first_name\",\n",
    "          description=\"The first name of a person.\",\n",
    "      )\n",
    "  ],\n",
    "  many=True,\n",
    ")\n",
    "from langchain_openai import OpenAI\n",
    "llm = ChatOpenAI(\n",
    "    model_name=\"gpt-4o\",\n",
    "    temperature=0,\n",
    "    max_tokens=2000,\n",
    "    api_key=''\n",
    ")\n",
    "chain = create_extraction_chain(llm, schema)\n",
    "chain.invoke((\"My name is Bobby. My brother's name Joe.\"))[\"data\"]\n",
    "chain.invoke((\"My name is Bobby. My brother's name Joe.\"))\n",
    "print(chain.get_prompts()[0].format_prompt(text=\"[user input]\").to_string())"
   ]
  }
 ],
 "metadata": {
  "language_info": {
   "name": "python"
  }
 },
 "nbformat": 4,
 "nbformat_minor": 2
}

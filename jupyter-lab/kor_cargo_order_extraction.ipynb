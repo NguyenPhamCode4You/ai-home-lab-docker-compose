{
 "cells": [
  {
   "cell_type": "code",
   "execution_count": 6,
   "metadata": {},
   "outputs": [],
   "source": [
    "from kor.extraction import create_extraction_chain\n",
    "from kor.nodes import Object, Text, Number\n",
    "from langchain_openai import ChatOpenAI\n",
    "from kor import Object, Text, Number  # Assuming kor provides these\n",
    "from langchain_openai import OpenAI\n",
    "\n",
    "api_key=''\n",
    "\n",
    "llm = ChatOpenAI(\n",
    "    model_name=\"gpt-4o\",\n",
    "    temperature=0,\n",
    "    max_tokens=2000,\n",
    "    api_key=api_key\n",
    ")"
   ]
  },
  {
   "cell_type": "code",
   "execution_count": 7,
   "metadata": {},
   "outputs": [],
   "source": [
    "laycanPeriod_schema = Object(\n",
    "    id=\"laycanPeriod\",\n",
    "    description=\"Extracts the laycan period from text, identifying start and end dates for cargo laycan.\",\n",
    "    attributes=[\n",
    "        Text(\n",
    "            id=\"laycanFrom\",\n",
    "            description=\"The start date of the laycan period in ISO 8601 format.\"\n",
    "        ),\n",
    "        Text(\n",
    "            id=\"laycanTo\",\n",
    "            description=\"The end date of the laycan period in ISO 8601 format.\"\n",
    "        )\n",
    "    ],\n",
    "    many=False,\n",
    "    examples=[\n",
    "        (\n",
    "            \"TOS 4th Quarter 2024\",\n",
    "            [\n",
    "                {\"laycanFrom\": \"2024-10-01T00:00:00\", \"laycanTo\": \"2024-12-31T23:59:59\"}\n",
    "            ]\n",
    "        ),\n",
    "        (\n",
    "            \"Laycan: March 2023 to May 2023\",\n",
    "            [\n",
    "                {\"laycanFrom\": \"2023-03-01T00:00:00\", \"laycanTo\": \"2023-05-31T23:59:59\"}\n",
    "            ]\n",
    "        ),\n",
    "        (\n",
    "            \"shipment time July 2025\",\n",
    "            [\n",
    "                {\"laycanFrom\": \"2025-05-01T00:00:00\", \"laycanTo\": \"2025-05-31T23:59:59\"}\n",
    "            ]\n",
    "        ),\n",
    "        (\n",
    "            \"Ly: 18th to 25th November 2024.\",\n",
    "            [\n",
    "                {\"laycanFrom\": \"2024-11-18T00:00:00\", \"laycanTo\": \"2024-11-25T23:59:59\"}\n",
    "            ]\n",
    "        ),\n",
    "        (\n",
    "            \"18/11 - 3/12\",\n",
    "            [\n",
    "                {\"laycanFrom\": \"2024-11-18T00:00:00\", \"laycanTo\": \"2024-12-03T23:59:59\"}\n",
    "            ]\n",
    "        ),\n",
    "        (\n",
    "            \"15-25 Feb\",\n",
    "            [\n",
    "                {\"laycanFrom\": \"2024-02-15T00:00:00\", \"laycanTo\": \"2024-02-25T23:59:59\"}\n",
    "            ]\n",
    "        ),\n",
    "    ],\n",
    ")"
   ]
  },
  {
   "cell_type": "code",
   "execution_count": 8,
   "metadata": {},
   "outputs": [
    {
     "name": "stdout",
     "output_type": "stream",
     "text": [
      "Your goal is to extract structured information from the user's input that matches the form described below. When extracting information please make sure it matches the type information exactly. Do not add any attributes that do not appear in the schema shown below.\n",
      "\n",
      "```TypeScript\n",
      "\n",
      "cargoOrders: Array<{ // Details of cargo orders including freight, laycanPeriod, loading/discharging rates, terms.\n",
      " cargo_items: Array<string> // Names of the cargo items to be transported\n",
      " loading_ports: Array<string> // Name of the ports where the cargo will be loaded\n",
      " discharging_ports: Array<string> // Name of the ports where the cargo will be dischared\n",
      " freight: number // The freight cost as a numeric value, e.g., 455000.\n",
      " currency: string // The currency unit for the freight, USD or EUR.\n",
      " detail_requirements: string // Specific vessel requirements, route, ..., if any, e.g.\n",
      " commission: number // Commission as numeric value, in percentage\n",
      " laycanPeriod: { // Extracts the laycan period from text, identifying start and end dates for cargo laycan.\n",
      "  laycanFrom: string // The start date of the laycan period in ISO 8601 format.\n",
      "  laycanTo: string // The end date of the laycan period in ISO 8601 format.\n",
      " }\n",
      "}>\n",
      "```\n",
      "\n",
      "\n",
      "Please output the extracted information in JSON format. Do not output anything except for the extracted information. Do not add any clarifying information. Do not add any fields that are not in the schema. If the text contains attributes that do not appear in the schema, please ignore them. All output must be in JSON format and follow the schema specified above. Wrap the JSON in <json> tags.\n",
      "\n",
      "\n",
      "\n",
      "Input: The cargo order includes 2 hydraulic power units to be loaded and shipped from Shanghai to Qidong. basis +/- 10% in Charterer, The loading rate is 500 tons/day, and the discharging rate is 600 tons/day. Freight is 455000 USD. Laycan is from 15th Feb to 25th Feb, and arrival is until 06th April agw, wp, fme.\n",
      "Output: <json>{\"cargoOrders\": [{\"cargo_items\": [\"2 hydraulic power units\"], \"commission\": 10, \"freight\": 455000, \"currencyUnit\": \"USD\", \"laycanPeriod\": {\"laycanFrom\": \"2024-02-15T00:00:00\", \"laycanTo\": \"2024-02-25T00:00:00\"}, \"loading_ports\": [\"Bergen\", \"Shanghai\"], \"discharging_ports\": [\"Qidong\"], \"detail_requirements\": \"Panamax vessel required\"}]}</json>\n",
      "Input: Engines ex Vaasa\n",
      "POL: Vaasa, FI\n",
      "Cargo: 4511 cbm / 1454 tons / incl 3x 205 mt units\n",
      "POD\n",
      "Output: <json>{\"cargoOrders\": [{\"cargo_items\": [\"Engines: 4511 cbm / 1454 tons / incl 3x 205 mt units\"]}]}</json>\n",
      "Input: POL: Hamburg, DE\n",
      "Output: <json>{\"cargoOrders\": [{\"loading_ports\": [\"Hamburg\"]}]}</json>\n",
      "Input: The shipment will be loaded at Bergen and Shanghai.\n",
      "Output: <json>{\"cargoOrders\": [{\"loading_ports\": [\"Bergen\", \"Shanghai\"]}]}</json>\n",
      "Input: Cargo load at Da Nang\n",
      "Output: <json>{\"cargoOrders\": [{\"loading_ports\": [\"Da Nang\"]}]}</json>\n",
      "Input: Cargo Unload at Arzew, Algeria\n",
      "Output: <json>{\"cargoOrders\": [{\"discharging_ports\": [\"Arzew\"]}]}</json>\n",
      "Input: Shipment Discharge at Houston or Leer\n",
      "Output: <json>{\"cargoOrders\": [{\"discharging_ports\": [\"Houston\", \"Leer\"]}]}</json>\n",
      "Input: POD: Duqm, Oman\n",
      "Output: <json>{\"cargoOrders\": [{\"discharging_ports\": [\"Duqm\"]}]}</json>\n",
      "Input: 5% comm\n",
      "Output: <json>{\"cargoOrders\": [{\"commission\": 5}]}</json>\n",
      "Input: commission: 7 %\n",
      "Output: <json>{\"cargoOrders\": [{\"commission\": 7}]}</json>\n",
      "Input: TOS 4th Quarter 2024\n",
      "Output: <json>{\"cargoOrders\": [{\"laycanPeriod\": [{\"laycanFrom\": \"2024-10-01T00:00:00\", \"laycanTo\": \"2024-12-31T23:59:59\"}]}]}</json>\n",
      "Input: Laycan: March 2023 to May 2023\n",
      "Output: <json>{\"cargoOrders\": [{\"laycanPeriod\": [{\"laycanFrom\": \"2023-03-01T00:00:00\", \"laycanTo\": \"2023-05-31T23:59:59\"}]}]}</json>\n",
      "Input: shipment time July 2025\n",
      "Output: <json>{\"cargoOrders\": [{\"laycanPeriod\": [{\"laycanFrom\": \"2025-05-01T00:00:00\", \"laycanTo\": \"2025-05-31T23:59:59\"}]}]}</json>\n",
      "Input: Ly: 18th to 25th November 2024.\n",
      "Output: <json>{\"cargoOrders\": [{\"laycanPeriod\": [{\"laycanFrom\": \"2024-11-18T00:00:00\", \"laycanTo\": \"2024-11-25T23:59:59\"}]}]}</json>\n",
      "Input: 18/11 - 3/12\n",
      "Output: <json>{\"cargoOrders\": [{\"laycanPeriod\": [{\"laycanFrom\": \"2024-11-18T00:00:00\", \"laycanTo\": \"2024-12-03T23:59:59\"}]}]}</json>\n",
      "Input: 15-25 Feb\n",
      "Output: <json>{\"cargoOrders\": [{\"laycanPeriod\": [{\"laycanFrom\": \"2024-02-15T00:00:00\", \"laycanTo\": \"2024-02-25T23:59:59\"}]}]}</json>\n",
      "Input: [user input]\n",
      "Output:\n"
     ]
    }
   ],
   "source": [
    "cargoOrders_schema = Object(\n",
    "    id=\"cargoOrders\",\n",
    "    description=\"Details of cargo orders including freight, laycanPeriod, loading/discharging rates, terms.\",\n",
    "    attributes=[\n",
    "        Text(\n",
    "            id=\"cargo_items\",\n",
    "            description=\"Names of the cargo items to be transported\",\n",
    "            many=True,\n",
    "            examples=[\n",
    "                (\"Engines ex Vaasa\\nPOL: Vaasa, FI\\nCargo: 4511 cbm / 1454 tons / incl 3x 205 mt units\\nPOD\", [\"Engines: 4511 cbm / 1454 tons / incl 3x 205 mt units\"]),\n",
    "            ]\n",
    "        ),\n",
    "        Text(\n",
    "            id=\"loading_ports\",\n",
    "            description=\"Name of the ports where the cargo will be loaded\",\n",
    "            many=True,\n",
    "            examples=[\n",
    "                (\"POL: Hamburg, DE\", [\"Hamburg\"]),\n",
    "                (\"The shipment will be loaded at Bergen and Shanghai.\", [\"Bergen\", \"Shanghai\"]),\n",
    "                (\"Cargo load at Da Nang\", [\"Da Nang\"])\n",
    "            ]\n",
    "        ),\n",
    "        Text(\n",
    "            id=\"discharging_ports\",\n",
    "            description=\"Name of the ports where the cargo will be dischared\",\n",
    "            many=True,\n",
    "            examples=[\n",
    "                (\"Cargo Unload at Arzew, Algeria\", [\"Arzew\"]),\n",
    "                (\"Shipment Discharge at Houston or Leer\", [\"Houston\", \"Leer\"]),\n",
    "                (\"POD: Duqm, Oman\", [\"Duqm\"])\n",
    "            ]\n",
    "        ),\n",
    "        Number(\n",
    "            id=\"freight\",\n",
    "            description=\"The freight cost as a numeric value, e.g., 455000.\"\n",
    "        ),\n",
    "        Text(\n",
    "            id=\"currency\",\n",
    "            description=\"The currency unit for the freight, USD or EUR.\"\n",
    "        ),\n",
    "        Text(\n",
    "            id=\"detail_requirements\",\n",
    "            description=\"Specific vessel requirements, route, ..., if any, e.g.\"\n",
    "        ),\n",
    "        Number(\n",
    "            id=\"commission\",\n",
    "            description=\"Commission as numeric value, in percentage\",\n",
    "            examples=[\n",
    "                (\"5% comm\", 5),\n",
    "                (\"commission: 7 %\", 7)\n",
    "            ]\n",
    "        ),\n",
    "        laycanPeriod_schema,\n",
    "    ],\n",
    "    examples=[\n",
    "        (\n",
    "            \"The cargo order includes 2 hydraulic power units to be loaded and shipped from Shanghai to Qidong. basis +/- 10% in Charterer, The loading rate is 500 tons/day, and the discharging rate is 600 tons/day. Freight is 455000 USD. Laycan is from 15th Feb to 25th Feb, and arrival is until 06th April agw, wp, fme.\",\n",
    "            [\n",
    "                {\n",
    "                    \"cargo_items\": [\"2 hydraulic power units\"],\n",
    "                    \"commission\": 10,\n",
    "                    \"freight\": 455000,\n",
    "                    \"currencyUnit\": \"USD\",\n",
    "                    \"laycanPeriod\": {\n",
    "                        \"laycanFrom\": \"2024-02-15T00:00:00\",\n",
    "                        \"laycanTo\": \"2024-02-25T00:00:00\"\n",
    "                    },\n",
    "                    \"loading_ports\": [ \"Bergen\", \"Shanghai\" ],\n",
    "                    \"discharging_ports\": [ \"Qidong\" ],\n",
    "                    \"detail_requirements\": \"Panamax vessel required\"\n",
    "                }\n",
    "            ]\n",
    "        )\n",
    "    ],\n",
    "    many=True  # Allows for multiple cargo orders\n",
    ")\n",
    "chain = create_extraction_chain(llm, cargoOrders_schema, encoder_or_encoder_class=\"json\")\n",
    "print(chain.get_prompts()[0].format_prompt(text=\"[user input]\").to_string())"
   ]
  },
  {
   "cell_type": "code",
   "execution_count": 9,
   "metadata": {},
   "outputs": [
    {
     "data": {
      "text/plain": [
       "{'cargoOrders': [{'cargo_items': ['Separation and Decarbonation Units: 9 units, Total weight: 1309 MT, Total volume: 5380.0332 cbm'],\n",
       "   'loading_ports': ['Duqm'],\n",
       "   'discharging_ports': ['Arzew'],\n",
       "   'detail_requirements': 'Requested Full Liner Terms (FLT) as part cargo. Preference given to proposals with “Waiting for Berth” at both ends at Vessel Owner Account. Stowage: Fully Under Deck, lashed and secured. Grace period: 48 hours reversible POL/POD for loading/discharging. Stackability: Non-Stackable.',\n",
       "   'laycanPeriod': {'laycanFrom': '2024-11-18T00:00:00',\n",
       "    'laycanTo': '2024-11-25T23:59:59'}}]}"
      ]
     },
     "execution_count": 9,
     "metadata": {},
     "output_type": "execute_result"
    }
   ],
   "source": [
    "testdata = 'POL: Duqm, Oman\\nPOD: Arzew, Algeria\\nCommodity: Separation and Decarbonation Units\\nQty: 9 units\\nTotal weight: 1309 MT\\nTotal volume: 5380.0332 cbm\\nTerms: Requested Full Liner Terms (FLT) as part cargo\\nPreference given to proposals with “Waiting for Berth” at both ends at Vessel Owner Account\\nLaycan: 18th to 25th November 2024\\nSee attached “Scope of Work” document for details\\nStowage: Fully Under Deck, lashed and secured\\nGrace period: 48 hours reversible POL/POD for loading/discharging\\nStackability: Non-Stackable.'\n",
    "\n",
    "chain.invoke((testdata))[\"data\"]"
   ]
  },
  {
   "cell_type": "code",
   "execution_count": 10,
   "metadata": {},
   "outputs": [
    {
     "data": {
      "text/plain": [
       "{'cargoOrders': [{'cargo_items': ['1x hydraulic power unit: 13,56 x 4,20 x 2,87m / 44,43mt',\n",
       "    '1x hydraulic power unit: 13,56 x 4,20 x 2,87m / 44,04mt',\n",
       "    'some spare parts'],\n",
       "   'loading_ports': ['Bergen'],\n",
       "   'discharging_ports': ['Shanghai', 'Qidong'],\n",
       "   'freight': 455000,\n",
       "   'currency': 'USD',\n",
       "   'detail_requirements': 'Via Suez, under deck, partly stackable, otherwise as per BBC BN',\n",
       "   'commission': 0,\n",
       "   'laycanPeriod': {'laycanFrom': '2024-02-15T00:00:00',\n",
       "    'laycanTo': '2024-02-25T23:59:59'}},\n",
       "  {'cargo_items': ['1x hydraulic power unit: 13,56 x 4,20 x 2,87m / 44,43mt',\n",
       "    '1x hydraulic power unit: 13,56 x 4,20 x 2,87m / 44,04mt',\n",
       "    'some spare parts'],\n",
       "   'loading_ports': ['Bergen'],\n",
       "   'discharging_ports': ['Shanghai', 'Qidong'],\n",
       "   'freight': 595000,\n",
       "   'currency': 'USD',\n",
       "   'detail_requirements': 'Via CogH, under deck, partly stackable, otherwise as per BBC BN',\n",
       "   'commission': 0,\n",
       "   'laycanPeriod': {'laycanFrom': '2024-02-15T00:00:00',\n",
       "    'laycanTo': '2024-02-25T23:59:59'}}]}"
      ]
     },
     "execution_count": 10,
     "metadata": {},
     "output_type": "execute_result"
    }
   ],
   "source": [
    "testdata = 'hoffe alles gut :)\\nWe can indic asf;\\nBBC Rio or sub\\nPOL: Bergen\\nPOD: Shanghai, Cosco shipyard - Qidong\\ncargo:\\n1x hydraulic power unit: 13,56 x 4,20 x 2,87m / 44,43mt (as attached/below)\\n1x hydraulic power unit: 13,56 x 4,20 x 2,87m / 44,04mt\\n+ some spare parts (dets to follow)\\nVia Suez\\nfreight: USD 455.000 lpsm lthh\\nTOS: 15-25 Feb\\narrival until 06th April agw, wp, fme\\nVia CogH\\nfreight: USD 595.000 lpsm lthh\\nTOS: 15-25 Feb\\narrival until 09th April agw, wp, fme\\npart cargo\\nunder deck\\npartly stackable\\notherwise as per BBC BN\\nsub further details\\nsub costs/restrictions POD\\nsub portcaptains approval of stowage'\n",
    "\n",
    "chain.invoke((testdata))[\"data\"]"
   ]
  },
  {
   "cell_type": "code",
   "execution_count": 11,
   "metadata": {},
   "outputs": [
    {
     "data": {
      "text/plain": [
       "{'cargoOrders': [{'cargo_items': ['1 x motor - total about 179 cbm / about 86 mtons'],\n",
       "   'loading_ports': ['Hamburg', 'Bremen', 'Bremerhaven'],\n",
       "   'discharging_ports': ['Darwin'],\n",
       "   'commission': 2.5,\n",
       "   'laycanPeriod': {'laycanFrom': '2024-10-01T00:00:00',\n",
       "    'laycanTo': '2024-12-31T23:59:59'},\n",
       "   'detail_requirements': \"Cargo to be loaded under deck, non-stackable / non-overstowable, full liner terms hook/hook, Hooking on/off Merchant's account, Grace period of 24hrs/24hrs\"}]}"
      ]
     },
     "execution_count": 11,
     "metadata": {},
     "output_type": "execute_result"
    }
   ],
   "source": [
    "testdata = 'Good day,\\n\\nPleased to hear with your indication for:\\n\\nAccount: DHL Global Forwarding IP\\n\\nCargo: 1 x motor - total about 179 cbm / about 86 mtons\\n\\nDimensions: 7,50 x 4,75 x 5,00 m – 86 tons\\nAll basis +/- 10% in Charterer\\'s option\\nOtherwise as per drawings attached hereto\\n\\nCargo to be loaded under deck\\nCargo to be non-stackable / non-overstowable\\n\\nLoadport: Hamburg or Bremen or Bremerhaven\\n\\nDischport: Darwin / Australia\\n\\nLaycan: 04th quarter 2024\\n\\nTerms: full liner terms hook/hook\\nHooking on/off Merchant\\'s account\\nGrace period of 24hrs/24hrs\\n\\nTransittime: normal p/c\\nPlease advise estimated transittime\\n\\nContract: BN\\n\\nCommission: 2.5% ttl on f/d/d/tf\\n\\nSubjects: Sub all further terms/conditions/details\\n\\nAwaiting yours in due course, many thanks for your continuous support.\\n\\nTake care,\\nOttmar\\n\\nOttmar Schulte\\nRegional Head of Marine Chartering Europe/Africa\\nDGF - Industrial Projects\\n\\nDHL Global Forwarding GmbH\\n\\nOffice: +49 40 73355701\\nCell: +49 15161578997'\n",
    "\n",
    "# Assuming chain is already defined and properly set up\n",
    "chain.invoke(testdata)[\"data\"]\n"
   ]
  },
  {
   "cell_type": "code",
   "execution_count": 14,
   "metadata": {},
   "outputs": [
    {
     "data": {
      "text/plain": [
       "{'cargoOrders': [{'cargo_items': ['Engines: 4511 cbm / 1454 tons / incl 3x 205 mt units'],\n",
       "   'loading_ports': ['Vaasa'],\n",
       "   'discharging_ports': ['Los Angeles', 'Houston'],\n",
       "   'laycanPeriod': {'laycanFrom': '2024-07-01T00:00:00',\n",
       "    'laycanTo': '2024-12-31T23:59:59'},\n",
       "   'detail_requirements': '3 engine modules discharge in Houston, remaining cargo in Los Angeles'},\n",
       "  {'cargo_items': ['Step up Trafos: 971 cbm / 330 tons / incl 2x 105 mt units'],\n",
       "   'loading_ports': ['Vaasa', 'Izmir'],\n",
       "   'discharging_ports': ['Houston'],\n",
       "   'laycanPeriod': {'laycanFrom': '2024-07-01T00:00:00',\n",
       "    'laycanTo': '2024-12-31T23:59:59'},\n",
       "   'detail_requirements': 'Option 1) Combination with above engines ex Vaasa, Option 2) Separate shipment ex Vaasa, Option 3) Separate shipment ex Turkey'},\n",
       "  {'cargo_items': ['SCRs / mixing pipes: 945 cbm / 77 tons'],\n",
       "   'loading_ports': ['Vaasa'],\n",
       "   'laycanPeriod': {'laycanFrom': '2024-07-01T00:00:00',\n",
       "    'laycanTo': '2024-12-31T23:59:59'},\n",
       "   'detail_requirements': 'Combination with above engines, Terms: lthh, Under deck / deck option containers, Stackable as per PL'}]}"
      ]
     },
     "execution_count": 14,
     "metadata": {},
     "output_type": "execute_result"
    }
   ],
   "source": [
    "testdata = (\n",
    "    \"Hope all is well?\\n\\nCould you please assist with rates for the following (TOS: 2nd half 2024 only)\\n(Sorry for the many different options)\\n\\nOption A) Engines ex Vaasa\\nPOL: Vaasa, FI\\nCargo: 4511 cbm / 1454 tons / incl 3x 205 mt units\\nPOD: \\n1) Los Angeles\\n2) Houston\\n3) Basis 2 discharge ports (3 engine modules discharge in Houston, remaining cargo in Los Angeles)\\n\\nOption B) Step up Trafos\\nPOL: Vaasa / Izmir\\nPOD: Houston\\nCargo: 971 cbm / 330 tons / incl 2x 105 mt units\\nOption 1) Combination with above engines ex Vaasa\\nOption 2) Separate shipment ex Vaasa\\nOption 3) Separate shipment ex Turkey\\n\\nOption C) SCRs / mixing pipes\\nCargo: 945 cbm / 77 tons\\nPOL: Vaasa combination with above engines\\n\\nTerms: lthh\\nUnder deck / deck option containers\\nStackable as per PL\\n\\nThanks.\"\n",
    ")\n",
    "\n",
    "chain.invoke(testdata)[\"data\"]"
   ]
  },
  {
   "cell_type": "code",
   "execution_count": 15,
   "metadata": {},
   "outputs": [
    {
     "data": {
      "text/plain": [
       "{'cargoOrders': [{'cargo_items': ['1 x motor - total about 179 cbm / about 86 mtons'],\n",
       "   'loading_ports': ['Hamburg', 'Bremen', 'Bremerhaven'],\n",
       "   'discharging_ports': ['Darwin'],\n",
       "   'commission': 2.5,\n",
       "   'laycanPeriod': {'laycanFrom': '2024-10-01T00:00:00',\n",
       "    'laycanTo': '2024-12-31T23:59:59'},\n",
       "   'detail_requirements': \"Cargo to be loaded under deck, non-stackable / non-overstowable, full liner terms hook/hook, Hooking on/off Merchant's account, Grace period of 24hrs/24hrs\"}]}"
      ]
     },
     "execution_count": 15,
     "metadata": {},
     "output_type": "execute_result"
    }
   ],
   "source": [
    "testdata = (\n",
    "    \"Good day,\\n\\n\"\n",
    "    \"Pleased to hear with your indication for:\\n\\n\"\n",
    "    \"Account: DHL Global Forwarding IP\\n\\n\"\n",
    "    \"Cargo: 1 x motor - total about 179 cbm / about 86 mtons\\n\\n\"\n",
    "    \"Dimensions: 7,50 x 4,75 x 5,00 m – 86 tons\\n\"\n",
    "    \"All basis +/- 10% in Charterer's option\\n\"\n",
    "    \"Otherwise as per drawings attached hereto\\n\\n\"\n",
    "    \"Cargo to be loaded under deck\\n\"\n",
    "    \"Cargo to be non-stackable / non-overstowable\\n\\n\"\n",
    "    \"Loadport: Hamburg or Bremen or Bremerhaven\\n\\n\"\n",
    "    \"Dischport: Darwin / Australia\\n\\n\"\n",
    "    \"Laycan: 04th quarter 2024\\n\\n\"\n",
    "    \"Terms: full liner terms hook/hook\\n\"\n",
    "    \"Hooking on/off Merchant's account\\n\"\n",
    "    \"Grace period of 24hrs/24hrs\\n\\n\"\n",
    "    \"Transittime: normal p/c\\n\"\n",
    "    \"Please advise estimated transittime\\n\\n\"\n",
    "    \"Contract: BN\\n\\n\"\n",
    "    \"Commission: 2.5% ttl on f/d/d/tf\\n\\n\"\n",
    "    \"Subjects: Sub all further terms/conditions/details\\n\\n\"\n",
    "    \"Awaiting yours in due course, many thanks for your continuous support.\\n\\n\"\n",
    "    \"Take care,\\n\"\n",
    "    \"Ottmar\\n\\n\"\n",
    "    \"Ottmar Schulte\\n\"\n",
    "    \"Regional Head of Marine Chartering Europe/Africa\\n\"\n",
    "    \"DGF - Industrial Projects\\n\\n\"\n",
    "    \"DHL Global Forwarding GmbH\\n\\n\"\n",
    "    \"Office: +49 40 73355701\\n\"\n",
    "    \"Cell: +49 15161578997\"\n",
    ")\n",
    "\n",
    "chain.invoke(testdata)[\"data\"]\n"
   ]
  }
 ],
 "metadata": {
  "kernelspec": {
   "display_name": "Python 3 (ipykernel)",
   "language": "python",
   "name": "python3"
  },
  "language_info": {
   "codemirror_mode": {
    "name": "ipython",
    "version": 3
   },
   "file_extension": ".py",
   "mimetype": "text/x-python",
   "name": "python",
   "nbconvert_exporter": "python",
   "pygments_lexer": "ipython3",
   "version": "3.12.7"
  }
 },
 "nbformat": 4,
 "nbformat_minor": 4
}

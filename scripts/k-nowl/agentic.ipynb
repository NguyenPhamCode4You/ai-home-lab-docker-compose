{
 "cells": [
  {
   "cell_type": "code",
   "execution_count": null,
   "metadata": {},
   "outputs": [],
   "source": [
    "from langchain.text_splitter import RecursiveCharacterTextSplitter\n",
    "from langchain_community.document_loaders import TextLoader\n",
    "import pandas as pd\n",
    "import os\n",
    "import subprocess\n",
    "\n",
    "from DataPreProcessing import DataPreProcessing\n",
    "\n",
    "paragraph_splitter = RecursiveCharacterTextSplitter(chunk_size=1600, chunk_overlap=20)\n",
    "text_splitter = RecursiveCharacterTextSplitter(chunk_size=250, chunk_overlap=0)"
   ]
  },
  {
   "cell_type": "code",
   "execution_count": null,
   "metadata": {},
   "outputs": [],
   "source": [
    "document_path = './Sedna.md'\n",
    "\n",
    "loader = TextLoader(document_path)\n",
    "document = loader.load()\n",
    "\n",
    "paragraphs = paragraph_splitter.split_documents(document)"
   ]
  },
  {
   "cell_type": "code",
   "execution_count": null,
   "metadata": {},
   "outputs": [],
   "source": [
    "formatted_chunks = []\n",
    "\n",
    "for paragraph in paragraphs:\n",
    "    if isinstance(paragraph, str):\n",
    "        paragraph = paragraph\n",
    "    else:\n",
    "        paragraph = paragraph.page_content\n",
    "\n",
    "    paragraph = DataPreProcessing(paragraph).run()\n",
    "    print(paragraph)\n",
    "    formatted_chunks.append(paragraph)"
   ]
  },
  {
   "cell_type": "code",
   "execution_count": null,
   "metadata": {},
   "outputs": [],
   "source": [
    "formated_prefix = 'processed'\n",
    "\n",
    "root, file = os.path.split(document_path)\n",
    "\n",
    "file_path = os.path.join(root, file)\n",
    "filename = os.path.splitext(file)[0]\n",
    "processd_file_path = os.path.join(root, f\"{filename}.{formated_prefix}.md\")\n",
    "\n",
    "with open(processd_file_path, 'w') as f:\n",
    "    f.write('\\n\\n'.join(formatted_chunks))"
   ]
  }
 ],
 "metadata": {
  "kernelspec": {
   "display_name": "Python 3",
   "language": "python",
   "name": "python3"
  },
  "language_info": {
   "name": "python",
   "version": "3.12.2"
  }
 },
 "nbformat": 4,
 "nbformat_minor": 2
}

{
 "cells": [
  {
   "cell_type": "code",
   "execution_count": 17,
   "metadata": {},
   "outputs": [
    {
     "data": {
      "text/plain": [
       "True"
      ]
     },
     "execution_count": 17,
     "metadata": {},
     "output_type": "execute_result"
    }
   ],
   "source": [
    "from langchain.output_parsers.openai_tools import JsonOutputToolsParser\n",
    "from langchain_openai import ChatOpenAI\n",
    "from langchain_core.prompts import ChatPromptTemplate\n",
    "from langchain_core.runnables import RunnableLambda\n",
    "from langchain.chains import create_extraction_chain\n",
    "from typing import Optional, List\n",
    "from langchain.chains import create_extraction_chain_pydantic\n",
    "from langchain_core.pydantic_v1 import BaseModel\n",
    "from langchain import hub\n",
    "from dotenv import load_dotenv\n",
    "\n",
    "load_dotenv()"
   ]
  },
  {
   "cell_type": "code",
   "execution_count": 47,
   "metadata": {},
   "outputs": [],
   "source": [
    "# Define Pydantic model for structured output\n",
    "class Sentences(BaseModel):\n",
    "    \"\"\"Contains cleaned, key sentences from a document.\"\"\"\n",
    "    sentences: List[str]\n",
    "\n",
    "# Define the prompt template for document analysis\n",
    "system_message = \"\"\"You are an expert at analyzing and extracting key sentences from a document.\n",
    "1. Each key sentences can contain 01 to 03 original sentences.\n",
    "2. Each key sentences should not exceed 200 characters.\n",
    "3. Each key sentences should contain meaningful information.\n",
    "4. Ignore key sentences that contain only numbers or special characters.\n",
    "5. Ignore key sentences that contain less than 7 words.\n",
    "6. For codes, always try to keep them together as one key sentence.\n",
    "\n",
    "Here are the sentences from the document. Please truncate them into key sentences, each on a new line.\n",
    "\"\"\"\n",
    "\n",
    "prompt = ChatPromptTemplate.from_messages(\n",
    "    [\n",
    "        (\"system\", system_message),\n",
    "        (\"human\", \"{question}\"),\n",
    "    ]\n",
    ")\n",
    "\n",
    "# Initialize the language model with structured output\n",
    "llm = ChatOpenAI(model=\"gpt-4o-mini\", temperature=0)\n",
    "# Use ollama instead of llm for OpenAI language model\n",
    "# Initialize the Ollama language model with structured output\n",
    "# from langchain_ollama.llms import OllamaLLM\n",
    "# llm = OllamaLLM(model=\"llama3.2:latest\", temperature=0)\n",
    "\n",
    "structured_llm = llm.with_structured_output(Sentences)\n",
    "\n",
    "# Prepare a pipeline to process paragraphs through the LLM prompt\n",
    "query_analyzer = {\"question\": RunnablePassthrough()} | prompt | structured_llm"
   ]
  },
  {
   "cell_type": "code",
   "execution_count": 48,
   "metadata": {},
   "outputs": [
    {
     "name": "stdout",
     "output_type": "stream",
     "text": [
      "[Document(metadata={'source': './Sedna.pdf.md'}, page_content=\"<!-- image -->\\n\\n## Integration Support Document\\n\\n## Document Management\\n\\n| DATE       |   VERSION | AUTHOR       | REASON          |\\n|------------|-----------|--------------|-----------------|\\n| 19/09/2023 |         1 | RebeccaPrice | InitialDocument |\\n\\n## Contents\\n\\nContents\\n\\nPurpose\\n\\nBusiness Use Cases\\n\\nIntroduction\\n\\nGlossary\\n\\nEvent Stream Document Management\\n\\nWorkflow\\n\\nTechnical Guidance\\n\\nEvent Stream End Point\\n\\nMessage Endpoint\\n\\nJob Reference Endpoint\\n\\nJob Reference Field Descriptions\\n\\nNext Step\\n\\n## Purpose\\n\\nThis document is designed to be a high level overview of leveraging Sedna's API's for Document management purposes. For full reference to SEDNA API: https://developers.sedna.com/reference\\n\\n## Business Use Cases\\n\\n- 1. Automate the saving of documents to an alternate system\\n\\nSave time by allowing the users to complete a simple action to save documents within an alternate system.\\n\\n- 2. Use the business transaction information to create a repository of documents\"), Document(metadata={'source': './Sedna.pdf.md'}, page_content=\"Using a common reference you allow ease of filing structure that is consistent across the business.\\n\\n- 3. Insert Documents into emails\\n\\nCreate a Sedna App to be able to insert documents directly into emails from an alternate system saving time and context switching.\\n\\n## Introduction\\n\\nSedna's APIs allow you to be able to create integrations with your business systems to provide efficiency, accuracy and context gains. Sedna recommends the following 3 options for leveraging these APIs in the Document Management space.\\n\\n- 1. Save Documents with Job & Category application using the event stream\\n- 2. Save Documents via a Connected App\\n- 3. Insert Documents in the composer with Connected App\\n\\n## Glossary\\n\\nThroughout this document we will use terms that are used within Sedna. Please see below table for terms and definitions as we mean them.\"), Document(metadata={'source': './Sedna.pdf.md'}, page_content='| Term              | Definition                                                                                                                                                                                                                                                                                         |\\n|-------------------|----------------------------------------------------------------------------------------------------------------------------------------------------------------------------------------------------------------------------------------------------------------------------------------------------|\\n| Job Reference Tag | A green tag within Sedna used to group messages that relate to a business transaction, such as Vessel - Voyage or Linkage ID.                                                                                                                                                                      |'), Document(metadata={'source': './Sedna.pdf.md'}, page_content='| Category Tag      | A blue tag within Sedna that is used to add additional context to a message, such as Recap, Final Documents or Certificates.                                                                                                                                                                       |\\n| Attributes        | This is the meta data held within a Job Reference, such as Vessel Name, Voyage Reference, Linkage ID or CP Date, that is used for different actions, such as providing a guiding path for integration & auto tagging. The end user cannot see this data but it is required to create the tag. This |\\n| Message ID        | This is a unique number that each message inside Sedna is given upon ingest. Messages can be found and actions can be taken to messages using this ID number.                                                                                                                                      |'), Document(metadata={'source': './Sedna.pdf.md'}, page_content='| Job Reference ID  | This is a unique number that each Job Reference Tag is given upon creation                                                                                                                                                                                                                         |\\n| Category Tag ID   | This is a unique number that each Category Tag is given upon creation                                                                                                                                                                                                                              |'), Document(metadata={'source': './Sedna.pdf.md'}, page_content='| Message Shared Within Sedna a message can be visible to multiple different mailboxes. Sharing a message allows the message to be visible to another mailbox as specified.   |\\n|-----------------------------------------------------------------------------------------------------------------------------------------------------------------------------|\\n| Event An event is something that is triggered by an action in your Sedna system                                                                                             |\\n| Event Stream This is a list of current events happening within your Sedna System. This can                                                                                  |\\n| End Point This is a specific access point to an entity within your Sedna System.                                                                                            |\\n\\n## Event Stream Document Management'), Document(metadata={'source': './Sedna.pdf.md'}, page_content=\"## Event Stream Document Management\\n\\nUsing Sedna's Event Stream API we allow users to control the saving of documentation in a simple quick action. This aligns with the business case goals 1 & 2. You can use this to save documents into an alternate system and also create a repository of documents.\\n\\nSedna should be set up with two things to allow this method to be efficient:\\n\\n- 1. Job Reference Tags that are linked to a business transaction (or reference in your alternate system) - for example Vessel Name - Voyage Number\\n- 2. Category Tags that align with where you would like to categorise the Document - eg Certificates, Final Documents, Recap\\n\\nYou will use the Job Reference and its attributes (further detail on attributes in Job Reference section below) plus the Category Tag to be able to retrieve the message ID for download and the information to guide where it should be uploaded into your alternate system.\\n\\n## Workflow\\n\\nBelow is a high level overview of the flow of this use case.\"), Document(metadata={'source': './Sedna.pdf.md'}, page_content='The coloured flow is related to the end user and the grey flow is related to the flow of the automation.\\n\\n<!-- image -->\\n\\n## Technical Guidance\\n\\n## Event Stream End Point\\n\\nUse the event endpoint to capture real time events. An event is something that is triggered by an action in your tenant such as sending a message or adding a tag. This endpoint is designed to catch events in real time as they occur. Sedna preserves one month of events so actions to be completed based on events should be taken within this timeframe.\\n\\nNote that the event endpoint allows you to retrieve data for specific messages that meet a given criteria in a set order. It is not possible to retrieve messages in bulk in the same order via the API at this time.\\n\\nEvents are triggered on the event endpoint as follows:'), Document(metadata={'source': './Sedna.pdf.md'}, page_content=\"- ● Message received - event.message.received\\n- ● Message scheduled (for sending) - event.message.message\\\\_scheduled\\n- ● Message sent - event.message.sent\\n- ● Message shared - event.message.shared\\n- ● Category tag added - event.message.tag.added.category\\n\\n- ● Category tag removed - event.message.tag.removed.category\\n- ● Job reference added - event.message.tag.added.job-reference\\n- ● Job reference removed - event.message.tag.removed.job-reference\\n- ● Draft edited - event.message.draft.edited\\n\\nIn the situation where you want to save a document to an alternate system based on the application of a category tag, you would use:\\n\\n- ● Category tag added endpoint looking for the specific Category tag ID identified\\n\\nYou would use this to identify the Sedna Message ID for the mail that the tag has been applied to.\\n\\nA n example on how to loop specific message events:\\n\\n- ● Read latest events endpoint [GET] {{baseUrl}}/platform/2019-01-01/event/latest\\n- ● Read the 'next' link\"), Document(metadata={'source': './Sedna.pdf.md'}, page_content='```\\n\"links\": { \"self\": \"https://demo01.sednanetwork.com/platform/2019-01-01/event/latest\", \"first\": \"https://demo01.sednanetwork.com/platform/2019-01-01/event/latest\", \"next\": \"https://demo01.sednanetwork.com/platform/2019-01-01/event/latest?page[cursor]=00001gcrf3et4000000007q5 310000000000g00\" }\\n```\\n\\n- ● Loop on the \\'next\\' links. Check on each iteration if anything has changed.\\n\\nNote - SEDNA plans to implement webhooks for events in the future. This will eliminate the need for a polling loop on events.\\n\\n## Code example\\n\\n```\\npublic function loop\\\\_events() { $loop\\\\_wait = 1; //Seconds //Get the latest event $url = $this->base\\\\_url . \"/event/latest\"; $r = $this->api\\\\_get($url); $url = $r[\\'links\\'][\\'next\\']; //This sets us on the current cursor which we\\'ll loop $last\\\\_id = \\'\\'; do { $r = $this->api\\\\_get($url); foreach($r[\\'data\\'] as $ix=>$data) { $id = $data[\\'id\\']; //If not a new message wait a sec and restart the loop if ($id == $last\\\\_id) {sleep($loop\\\\_wait); continue;}\\n```'), Document(metadata={'source': './Sedna.pdf.md'}, page_content='```\\n//Get basic event metadata $atts = $data[\\'attributes\\']; $time = $atts[\\'time\\']; $eventType = $atts[\\'eventType\\']; //Only deal with incoming messages using the below //if ($eventType <> \\'event.message.received\\') continue; //Get the message subject $msg\\\\_id = $data[\\'relationships\\'][\\'message\\'][\\'data\\'][\\'id\\']; $msg = $this->get\\\\_message($msg\\\\_id); $subject = $msg[\\'data\\'][\\'attributes\\'][\\'subject\\']; echo \"$time $eventType $id $subject \"; } $last\\\\_id = $id; $url = $r[\\'links\\'][\\'next\\']; sleep($loop\\\\_wait); } while (true); }\\n```\\n\\n## Message Endpoint\\n\\nOnce you have the Message ID you can get message information that you need. This is broken down into two pieces.\\n\\n- 1. The job reference applied to the message\\n- a. [GET] /platform/2019-01-01/message/{{MessageID}}/relationships/job-reference/\\n- 2. The documents attached to the message\\n- a. [GET] /platform/2019-01-01/message/{{MessageID}}/relationships/document'), Document(metadata={'source': './Sedna.pdf.md'}, page_content='You can also use this to find the category tags applied if you wish to use them to add extra information for the file path for example, save - final documents, save - recap. This can be done using:\\n\\n- 1. [GET] /platform/2019-01-01/message/{{MessageID}}/relationships/category-tag/\\n\\nOnce you have these two pieces of information you can move onto the next step.\\n\\nUsing the same document endpoint above you would then download the attachments (documents)\\n\\n## An example below:\\n\\n```\\npublic function download\\\\_document($in\\\\_document\\\\_id, $in\\\\_file\\\\_loc = \\'/tmp/sedna\\\\_merge\\') { //Create destination $in\\\\_file\\\\_loc if it doesn\\'t exists if (!file\\\\_exists($in\\\\_file\\\\_loc)) mkdir($in\\\\_file\\\\_loc,0777); //Download the file to the directory given by $in\\\\_file\\\\_loc $url = $this->base\\\\_url . \"/download/document/$in\\\\_document\\\\_id\"; $output\\\\_file = \"$in\\\\_file\\\\_loc/$in\\\\_document\\\\_id.pdf\"; $r = $this->api\\\\_download($url,$output\\\\_file); //api\\\\_download in appendix below return $output\\\\_file; }\\n```'), Document(metadata={'source': './Sedna.pdf.md'}, page_content='## Job Reference Endpoint\\n\\nThe job reference is related to the business transaction so should give you the path to finding the record to upload to. This means once you have a result you should then move on to the next step using the\\n\\n- ● Job Reference Endpoint [GET] {{baseurl}}/platform/2019-01-01/job-reference\\n\\n## Example job Reference\\n\\n```\\n{ \"data\": { \"type\": \"job-reference\", \"attributes\": { \"name\": \"Vessel Name. - 2202\", \"archived\": false , \"date\": null , \"type\": \"voyage\", \"foreignKey\": \"1667622\", \"attributes\": { \"type\": \"DEFAULT\", \"vesselName\": \"Vessel Name\", \"displayName\": \"Vessel Name - 2202\", \"voyageNumber\": \"2202\", \"imo\": \"930215\" } } } }\\n```\\n\\n## Job Reference Field Descriptions'), Document(metadata={'source': './Sedna.pdf.md'}, page_content='| Field ref   | Field Name   | Description                                                                                                                                   | Format                                                                       | Examples                                                                                                                | Source      |\\n|-------------|--------------|-----------------------------------------------------------------------------------------------------------------------------------------------|------------------------------------------------------------------------------|-------------------------------------------------------------------------------------------------------------------------|-------------|'), Document(metadata={'source': './Sedna.pdf.md'}, page_content='| jr -f1      | data         | Container for al lfie lds                                                                                                                     | n/a                                                                          | n/a                                                                                                                     | n/a         |\\n| jr-f2       | attribute s  | All Job Reference attributes                                                                                                                  | string                                                                       | n/a                                                                                                                     | System      |'), Document(metadata={'source': './Sedna.pdf.md'}, page_content='| jr-f3       | name         | Job Reference name                                                                                                                            | String                                                                       | Cape Alaska - 12345                                                                                                     | System      |\\n| jr-f4       | date         | Created Date associated with transaction                                                                                                      | Iso 8601                                                                     | 2020-02-06T 12:51:47Z                                                                                                   | System      |'), Document(metadata={'source': './Sedna.pdf.md'}, page_content='| jr-f5       | type         | Job Reference type                                                                                                                            | String value                                                                 | Voyage                                                                                                                  | Fixed value |\\n| jr-f6       | foreign key  | Unique id relating to alternate system                                                                                                        | String                                                                       | 1667622                                                                                                                 | System      |'), Document(metadata={'source': './Sedna.pdf.md'}, page_content='| jr-f7       | attribute s  | These are self describing key value pairs. N.B. Other key value pairs may be included for future use, see format for string length constraint | String (Example) Vessel Name Reference Number Port ETA Vessel Email Operator | Vessel Name, Cape Alaska Reference Number, 54323445 Port, Barcelona ETA, 23.08.01 Vessel Email, StarAlaska@ sednashippi | System      |\\n| jr-f8       | archived     | Two values expected. \"True\" means Job Reference will not be                                                                                   | String                                                                       | Allowed values \"true\" or \"false\"                                                                                        | n/a         |'), Document(metadata={'source': './Sedna.pdf.md'}, page_content='| jr-f9   |      | considered by Auto-taggers; \"False\" means Job Reference will be considered by Auto-taggers   |        |                      |     |\\n|---------|------|----------------------------------------------------------------------------------------------|--------|----------------------|-----|\\n|         | type | Refers to all Data provided to API                                                           | String | Fixed value \"string\" | n/a |\\n\\n## For Reference\\n\\n- ● The lowest level attributes section can be varied and attributes can be added in this section to support the customer\\'s configuration.\\n- ● The data.attributes.name value is what shows as the job reference in SEDNA.\\n- ● The data.type value should indicate the type of job reference. This can be useful when more than one job reference is applied and, for example, an application needs to identify the correct job reference to use for lookups in the alternate system.\\n\\n## Next Step'), Document(metadata={'source': './Sedna.pdf.md'}, page_content='## Next Step\\n\\nThese 3 pieces of information should give you the ability to save the documents to your alternate system.\\n\\n- 1. The category tag event is the trigger that indicates the message or documents should be saved. If you have multiple file structures in your system you can use multiple tags to save under the correct structure, eg. Save - Recap, Save - Certificate, Save Final Documents\\n- 2. The message id allows you to find the job reference id and the documents to be downloaded.\\n- 3. The job reference attributes gives you the information to guide you to where the document should be saved for example, using the Vessel name and the reference number.')]\n"
     ]
    }
   ],
   "source": [
    "from langchain.text_splitter import RecursiveCharacterTextSplitter\n",
    "from langchain_community.document_loaders import TextLoader\n",
    "\n",
    "document_path = './Sedna.pdf.md'\n",
    "loader = TextLoader(document_path)\n",
    "documents = loader.load()\n",
    "\n",
    "text_splitter = RecursiveCharacterTextSplitter(chunk_size=1000, chunk_overlap=50)\n",
    "chunked_texts = text_splitter.split_documents(documents)\n",
    "\n",
    "print(chunked_texts)\n"
   ]
  },
  {
   "cell_type": "code",
   "execution_count": 49,
   "metadata": {},
   "outputs": [
    {
     "name": "stdout",
     "output_type": "stream",
     "text": [
      "[\"This document is designed to be a high level overview of leveraging Sedna's API's for Document management purposes.\", 'For full reference to SEDNA API: https://developers.sedna.com/reference', 'Save time by allowing the users to complete a simple action to save documents within an alternate system.']\n",
      "Processed paragraph 1\n",
      "['Using a common reference you allow ease of filing structure that is consistent across the business.', 'Create a Sedna App to be able to insert documents directly into emails from an alternate system saving time and context switching.', \"Sedna's APIs allow you to be able to create integrations with your business systems to provide efficiency, accuracy and context gains.\", 'Sedna recommends the following 3 options for leveraging these APIs in the Document Management space.']\n",
      "Processed paragraph 2\n",
      "['A green tag within Sedna is used to group messages that relate to a business transaction, such as Vessel - Voyage or Linkage ID.']\n",
      "Processed paragraph 3\n",
      "['A blue tag within Sedna is used to add additional context to a message, such as Recap, Final Documents or Certificates.', 'Attributes are the meta data held within a Job Reference, such as Vessel Name, Voyage Reference, Linkage ID or CP Date.', 'Each message inside Sedna is given a unique number upon ingest, allowing messages to be found and actions to be taken using this ID.']\n",
      "Processed paragraph 4\n",
      "['This is a unique number that each Job Reference Tag is given upon creation.', 'This is a unique number that each Category Tag is given upon creation.']\n",
      "Processed paragraph 5\n",
      "['A message can be visible to multiple different mailboxes in Sedna. Sharing a message allows it to be visible to another specified mailbox.', 'An event is something that is triggered by an action in your Sedna system.', 'Event Stream is a list of current events happening within your Sedna System.', 'An End Point is a specific access point to an entity within your Sedna System.']\n",
      "Processed paragraph 6\n",
      "[\"Using Sedna's Event Stream API we allow users to control the saving of documentation in a simple quick action.\", 'Sedna should be set up with two things to allow this method to be efficient: Job Reference Tags and Category Tags.', 'You will use the Job Reference and its attributes plus the Category Tag to retrieve the message ID for download.']\n",
      "Processed paragraph 7\n",
      "['The coloured flow is related to the end user and the grey flow is related to the flow of the automation.', 'Use the event endpoint to capture real time events triggered by actions in your tenant.', 'Sedna preserves one month of events so actions to be completed based on events should be taken within this timeframe.']\n",
      "Processed paragraph 8\n",
      "['Message received - event.message.received', 'Message scheduled (for sending) - event.message.message\\\\_scheduled', 'Message sent - event.message.sent', 'Message shared - event.message.shared', 'Category tag added - event.message.tag.added.category', 'Category tag removed - event.message.tag.removed.category', 'Job reference added - event.message.tag.added.job-reference', 'Job reference removed - event.message.tag.removed.job-reference', 'Draft edited - event.message.draft.edited', 'In the situation where you want to save a document to an alternate system based on the application of a category tag, you would use:', 'Category tag added endpoint looking for the specific Category tag ID identified', 'You would use this to identify the Sedna Message ID for the mail that the tag has been applied to.', 'An example on how to loop specific message events:', 'Read latest events endpoint [GET] {{baseUrl}}/platform/2019-01-01/event/latest', \"Read the 'next' link\"]\n",
      "Processed paragraph 9\n",
      "[\"Loop on the 'next' links. Check on each iteration if anything has changed.\", 'SEDNA plans to implement webhooks for events in the future, which will eliminate the need for a polling loop on events.', 'public function loop\\\\_events() { $loop\\\\_wait = 1; //Seconds //Get the latest event $url = $this->base\\\\_url . \"/event/latest\"; $r = $this->api\\\\_get($url); $url = $r[\\'links\\'][\\'next\\']; //This sets us on the current cursor which we\\'ll loop $last\\\\_id = \\'\\'; do { $r = $this->api\\\\_get($url); foreach($r[\\'data\\'] as $ix=>$data) { $id = $data[\\'id\\']; //If not a new message wait a sec and restart the loop if ($id == $last\\\\_id) {sleep($loop\\\\_wait); continue;}}']\n",
      "Processed paragraph 10\n",
      "['//Get basic event metadata $atts = $data[\\'attributes\\']; $time = $atts[\\'time\\']; $eventType = $atts[\\'eventType\\']; //Only deal with incoming messages using the below //if ($eventType <> \\'event.message.received\\') continue; //Get the message subject $msg_id = $data[\\'relationships\\'][\\'message\\'][\\'data\\'][\\'id\\']; $msg = $this->get_message($msg_id); $subject = $msg[\\'data\\'][\\'attributes\\'][\\'subject\\']; echo \"$time $eventType $id $subject \"; } $last_id = $id; $url = $r[\\'links\\'][\\'next\\']; sleep($loop_wait); } while (true); }', 'Once you have the Message ID you can get message information that you need. This is broken down into two pieces.', 'The job reference applied to the message is accessed via [GET] /platform/2019-01-01/message/{{MessageID}}/relationships/job-reference/.', 'The documents attached to the message can be retrieved using [GET] /platform/2019-01-01/message/{{MessageID}}/relationships/document.']\n",
      "Processed paragraph 11\n",
      "['You can also use this to find the category tags applied if you wish to use them to add extra information for the file path.', 'This can be done using: - 1. [GET] /platform/2019-01-01/message/{{MessageID}}/relationships/category-tag/', 'Using the same document endpoint above you would then download the attachments (documents).', 'public function download\\\\_document($in\\\\_document\\\\_id, $in\\\\_file\\\\_loc = \\'/tmp/sedna\\\\_merge\\') { //Create destination $in\\\\_file\\\\_loc if it doesn\\'t exists if (!file\\\\_exists($in\\\\_file\\\\_loc)) mkdir($in\\\\_file\\\\_loc,0777); //Download the file to the directory given by $in\\\\_file\\\\_loc $url = $this->base\\\\_url . \"/download/document/$in\\\\_document\\\\_id\"; $output\\\\_file = \"$in\\\\_file\\\\_loc/$in\\\\_document\\\\_id.pdf\"; $r = $this->api\\\\_download($url,$output\\\\_file); //api\\\\_download in appendix below return $output\\\\_file; }']\n",
      "Processed paragraph 12\n",
      "['The job reference is related to the business transaction so should give you the path to finding the record to upload to.', 'Job Reference Endpoint [GET] {{baseurl}}/platform/2019-01-01/job-reference', '{ \"data\": { \"type\": \"job-reference\", \"attributes\": { \"name\": \"Vessel Name. - 2202\", \"archived\": false , \"date\": null , \"type\": \"voyage\", \"foreignKey\": \"1667622\", \"attributes\": { \"type\": \"DEFAULT\", \"vesselName\": \"Vessel Name\", \"displayName\": \"Vessel Name - 2202\", \"voyageNumber\": \"2202\", \"imo\": \"930215\" } } } }']\n",
      "Processed paragraph 13\n",
      "['Field ref, Field Name, Description, Format, Examples, and Source are key components of the document.', 'The document outlines various fields and their descriptions, formats, and examples.']\n",
      "Processed paragraph 14\n",
      "['Container for all fields', 'All Job Reference attributes']\n",
      "Processed paragraph 15\n",
      "['| jr-f3       | name         | Job Reference name                                                                                                                            | String                                                                       | Cape Alaska - 12345                                                                                                     | System      |', '| jr-f4       | date         | Created Date associated with transaction                                                                                                      | Iso 8601                                                                     | 2020-02-06T 12:51:47Z                                                                                                   | System      |']\n",
      "Processed paragraph 16\n",
      "['Job Reference type is a string value.', 'Unique id relating to alternate system is a string.']\n",
      "Processed paragraph 17\n",
      "['These are self describing key value pairs.', 'Other key value pairs may be included for future use, see format for string length constraint.', \"Allowed values are 'true' or 'false'.\"]\n",
      "Processed paragraph 18\n",
      "[\"The lowest level attributes section can be varied and attributes can be added in this section to support the customer's configuration.\", 'The data.attributes.name value is what shows as the job reference in SEDNA.', 'The data.type value should indicate the type of job reference, which is useful when more than one job reference is applied.']\n",
      "Processed paragraph 19\n",
      "['These 3 pieces of information should give you the ability to save the documents to your alternate system.', 'The category tag event is the trigger that indicates the message or documents should be saved.', 'The message id allows you to find the job reference id and the documents to be downloaded.', 'The job reference attributes gives you the information to guide you to where the document should be saved.']\n",
      "Processed paragraph 20\n",
      "\n",
      "Extracted 70 key sentences:\n",
      "[\"This document is designed to be a high level overview of leveraging Sedna's API's for Document management purposes.\", 'For full reference to SEDNA API: https://developers.sedna.com/reference', 'Save time by allowing the users to complete a simple action to save documents within an alternate system.', 'Using a common reference you allow ease of filing structure that is consistent across the business.', 'Create a Sedna App to be able to insert documents directly into emails from an alternate system saving time and context switching.', \"Sedna's APIs allow you to be able to create integrations with your business systems to provide efficiency, accuracy and context gains.\", 'Sedna recommends the following 3 options for leveraging these APIs in the Document Management space.', 'A green tag within Sedna is used to group messages that relate to a business transaction, such as Vessel - Voyage or Linkage ID.', 'A blue tag within Sedna is used to add additional context to a message, such as Recap, Final Documents or Certificates.', 'Attributes are the meta data held within a Job Reference, such as Vessel Name, Voyage Reference, Linkage ID or CP Date.', 'Each message inside Sedna is given a unique number upon ingest, allowing messages to be found and actions to be taken using this ID.', 'This is a unique number that each Job Reference Tag is given upon creation.', 'This is a unique number that each Category Tag is given upon creation.', 'A message can be visible to multiple different mailboxes in Sedna. Sharing a message allows it to be visible to another specified mailbox.', 'An event is something that is triggered by an action in your Sedna system.', 'Event Stream is a list of current events happening within your Sedna System.', 'An End Point is a specific access point to an entity within your Sedna System.', \"Using Sedna's Event Stream API we allow users to control the saving of documentation in a simple quick action.\", 'Sedna should be set up with two things to allow this method to be efficient: Job Reference Tags and Category Tags.', 'You will use the Job Reference and its attributes plus the Category Tag to retrieve the message ID for download.', 'The coloured flow is related to the end user and the grey flow is related to the flow of the automation.', 'Use the event endpoint to capture real time events triggered by actions in your tenant.', 'Sedna preserves one month of events so actions to be completed based on events should be taken within this timeframe.', 'Message received - event.message.received', 'Message scheduled (for sending) - event.message.message\\\\_scheduled', 'Message sent - event.message.sent', 'Message shared - event.message.shared', 'Category tag added - event.message.tag.added.category', 'Category tag removed - event.message.tag.removed.category', 'Job reference added - event.message.tag.added.job-reference', 'Job reference removed - event.message.tag.removed.job-reference', 'Draft edited - event.message.draft.edited', 'In the situation where you want to save a document to an alternate system based on the application of a category tag, you would use:', 'Category tag added endpoint looking for the specific Category tag ID identified', 'You would use this to identify the Sedna Message ID for the mail that the tag has been applied to.', 'An example on how to loop specific message events:', 'Read latest events endpoint [GET] {{baseUrl}}/platform/2019-01-01/event/latest', \"Read the 'next' link\", \"Loop on the 'next' links. Check on each iteration if anything has changed.\", 'SEDNA plans to implement webhooks for events in the future, which will eliminate the need for a polling loop on events.', 'public function loop\\\\_events() { $loop\\\\_wait = 1; //Seconds //Get the latest event $url = $this->base\\\\_url . \"/event/latest\"; $r = $this->api\\\\_get($url); $url = $r[\\'links\\'][\\'next\\']; //This sets us on the current cursor which we\\'ll loop $last\\\\_id = \\'\\'; do { $r = $this->api\\\\_get($url); foreach($r[\\'data\\'] as $ix=>$data) { $id = $data[\\'id\\']; //If not a new message wait a sec and restart the loop if ($id == $last\\\\_id) {sleep($loop\\\\_wait); continue;}}', '//Get basic event metadata $atts = $data[\\'attributes\\']; $time = $atts[\\'time\\']; $eventType = $atts[\\'eventType\\']; //Only deal with incoming messages using the below //if ($eventType <> \\'event.message.received\\') continue; //Get the message subject $msg_id = $data[\\'relationships\\'][\\'message\\'][\\'data\\'][\\'id\\']; $msg = $this->get_message($msg_id); $subject = $msg[\\'data\\'][\\'attributes\\'][\\'subject\\']; echo \"$time $eventType $id $subject \"; } $last_id = $id; $url = $r[\\'links\\'][\\'next\\']; sleep($loop_wait); } while (true); }', 'Once you have the Message ID you can get message information that you need. This is broken down into two pieces.', 'The job reference applied to the message is accessed via [GET] /platform/2019-01-01/message/{{MessageID}}/relationships/job-reference/.', 'The documents attached to the message can be retrieved using [GET] /platform/2019-01-01/message/{{MessageID}}/relationships/document.', 'You can also use this to find the category tags applied if you wish to use them to add extra information for the file path.', 'This can be done using: - 1. [GET] /platform/2019-01-01/message/{{MessageID}}/relationships/category-tag/', 'Using the same document endpoint above you would then download the attachments (documents).', 'public function download\\\\_document($in\\\\_document\\\\_id, $in\\\\_file\\\\_loc = \\'/tmp/sedna\\\\_merge\\') { //Create destination $in\\\\_file\\\\_loc if it doesn\\'t exists if (!file\\\\_exists($in\\\\_file\\\\_loc)) mkdir($in\\\\_file\\\\_loc,0777); //Download the file to the directory given by $in\\\\_file\\\\_loc $url = $this->base\\\\_url . \"/download/document/$in\\\\_document\\\\_id\"; $output\\\\_file = \"$in\\\\_file\\\\_loc/$in\\\\_document\\\\_id.pdf\"; $r = $this->api\\\\_download($url,$output\\\\_file); //api\\\\_download in appendix below return $output\\\\_file; }', 'The job reference is related to the business transaction so should give you the path to finding the record to upload to.', 'Job Reference Endpoint [GET] {{baseurl}}/platform/2019-01-01/job-reference', '{ \"data\": { \"type\": \"job-reference\", \"attributes\": { \"name\": \"Vessel Name. - 2202\", \"archived\": false , \"date\": null , \"type\": \"voyage\", \"foreignKey\": \"1667622\", \"attributes\": { \"type\": \"DEFAULT\", \"vesselName\": \"Vessel Name\", \"displayName\": \"Vessel Name - 2202\", \"voyageNumber\": \"2202\", \"imo\": \"930215\" } } } }', 'Field ref, Field Name, Description, Format, Examples, and Source are key components of the document.', 'The document outlines various fields and their descriptions, formats, and examples.', 'Container for all fields', 'All Job Reference attributes', '| jr-f3       | name         | Job Reference name                                                                                                                            | String                                                                       | Cape Alaska - 12345                                                                                                     | System      |', '| jr-f4       | date         | Created Date associated with transaction                                                                                                      | Iso 8601                                                                     | 2020-02-06T 12:51:47Z                                                                                                   | System      |', 'Job Reference type is a string value.', 'Unique id relating to alternate system is a string.', 'These are self describing key value pairs.', 'Other key value pairs may be included for future use, see format for string length constraint.', \"Allowed values are 'true' or 'false'.\", \"The lowest level attributes section can be varied and attributes can be added in this section to support the customer's configuration.\", 'The data.attributes.name value is what shows as the job reference in SEDNA.', 'The data.type value should indicate the type of job reference, which is useful when more than one job reference is applied.', 'These 3 pieces of information should give you the ability to save the documents to your alternate system.', 'The category tag event is the trigger that indicates the message or documents should be saved.', 'The message id allows you to find the job reference id and the documents to be downloaded.', 'The job reference attributes gives you the information to guide you to where the document should be saved.']\n"
     ]
    }
   ],
   "source": [
    "# Extract key sentences from each paragraph\n",
    "text_propositions = []\n",
    "\n",
    "# for i, para in enumerate(chunked_texts[:15]):  # Limit to the first 5 paragraphs as an example\n",
    "for i, para in enumerate(chunked_texts):  # Limit to the first 5 paragraphs as an example\n",
    "    query = {\"question\": para}\n",
    "    result = query_analyzer.invoke(query)\n",
    "    sentences = result.sentences\n",
    "    # split the sentences into a list of strings, with new lines\n",
    "    # sentences = sentences.split(\"\\n\")\n",
    "    print(sentences) \n",
    "    # Add the sentences to the text_propositions\n",
    "    text_propositions.extend(sentences)\n",
    "    print(f\"Processed paragraph {i + 1}\")\n",
    "\n",
    "# Final output\n",
    "print(f\"\\nExtracted {len(text_propositions)} key sentences:\")\n",
    "print(text_propositions)  # Display the first 10 key sentences"
   ]
  },
  {
   "cell_type": "code",
   "execution_count": 50,
   "metadata": {},
   "outputs": [],
   "source": [
    "import pandas as pd\n",
    "\n",
    "# Convert chunked_texts to a DataFrame\n",
    "chunk_data = [{\"Master Data\": i, \"content\": chunk} for i, chunk in enumerate(text_propositions)]\n",
    "df_chunks = pd.DataFrame(chunk_data)\n",
    "\n",
    "csv_path = './chunked/Master.docx.csv'\n",
    "df_chunks.to_csv(csv_path, index=False)\n",
    "\n",
    "json_path = './chunked/Master.docx.json'\n",
    "df_chunks.to_json(json_path, orient=\"records\", lines=True)"
   ]
  },
  {
   "cell_type": "code",
   "execution_count": null,
   "metadata": {},
   "outputs": [],
   "source": []
  }
 ],
 "metadata": {
  "kernelspec": {
   "display_name": "base",
   "language": "python",
   "name": "python3"
  },
  "language_info": {
   "codemirror_mode": {
    "name": "ipython",
    "version": 3
   },
   "file_extension": ".py",
   "mimetype": "text/x-python",
   "name": "python",
   "nbconvert_exporter": "python",
   "pygments_lexer": "ipython3",
   "version": "3.12.7"
  }
 },
 "nbformat": 4,
 "nbformat_minor": 2
}

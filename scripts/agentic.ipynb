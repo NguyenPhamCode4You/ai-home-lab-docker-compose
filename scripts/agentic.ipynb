{
 "cells": [
  {
   "cell_type": "code",
   "execution_count": null,
   "metadata": {},
   "outputs": [
    {
     "data": {
      "text/plain": [
       "True"
      ]
     },
     "execution_count": 17,
     "metadata": {},
     "output_type": "execute_result"
    }
   ],
   "source": [
    "from langchain.text_splitter import RecursiveCharacterTextSplitter\n",
    "from langchain_community.document_loaders import TextLoader\n",
    "import pandas as pd\n",
    "import os\n",
    "import subprocess\n",
    "\n",
    "from ChunkValidator import ChunkValidator\n",
    "from CreateEmbedding import CreateEmbedding\n",
    "from MetadataExtractor import MetadataExtractor\n",
    "from SupabaseVectorStore import SupabaseVectorStore\n",
    "from TextFormater import TextFormater\n",
    "from TextSpliter import TextSpliter\n",
    "from Helper import word_count_less_than, remove_duplicated, clean_text\n",
    "\n",
    "paragraph_splitter = RecursiveCharacterTextSplitter(chunk_size=1600, chunk_overlap=50)\n",
    "text_splitter = RecursiveCharacterTextSplitter(chunk_size=250, chunk_overlap=0)"
   ]
  },
  {
   "cell_type": "code",
   "execution_count": null,
   "metadata": {},
   "outputs": [],
   "source": [
    "document_path = './Sedna.pdf.md'\n",
    "loader = TextLoader(document_path)\n",
    "document = loader.load()\n",
    "\n",
    "chunked_texts = text_splitter.split_documents(document)\n",
    "print(chunked_texts)"
   ]
  },
  {
   "cell_type": "code",
   "execution_count": null,
   "metadata": {},
   "outputs": [],
   "source": [
    "# Define Pydantic model for structured output\n",
    "class Sentences(BaseModel):\n",
    "    \"\"\"Contains cleaned, key sentences from a document.\"\"\"\n",
    "    sentences: List[str]\n",
    "\n",
    "# Define the prompt template for document analysis\n",
    "system_message = \"\"\"You are an expert at analyzing and extracting key sentences from a document.\n",
    "1. Each key sentences can contain 01 to 03 original sentences.\n",
    "2. Each key sentences should not exceed 200 characters.\n",
    "3. Each key sentences should contain meaningful information.\n",
    "4. Ignore key sentences that contain only numbers or special characters.\n",
    "5. Ignore key sentences that contain less than 7 words.\n",
    "6. For codes, always try to keep them together as one key sentence.\n",
    "\n",
    "Here are the sentences from the document. Please truncate them into key sentences, each on a new line.\n",
    "\"\"\"\n",
    "\n",
    "prompt = ChatPromptTemplate.from_messages(\n",
    "    [\n",
    "        (\"system\", system_message),\n",
    "        (\"human\", \"{question}\"),\n",
    "    ]\n",
    ")"
   ]
  },
  {
   "cell_type": "code",
   "execution_count": 49,
   "metadata": {},
   "outputs": [
    {
     "name": "stdout",
     "output_type": "stream",
     "text": [
      "[\"This document is designed to be a high level overview of leveraging Sedna's API's for Document management purposes.\", 'For full reference to SEDNA API: https://developers.sedna.com/reference', 'Save time by allowing the users to complete a simple action to save documents within an alternate system.']\n",
      "Processed paragraph 1\n",
      "['Using a common reference you allow ease of filing structure that is consistent across the business.', 'Create a Sedna App to be able to insert documents directly into emails from an alternate system saving time and context switching.', \"Sedna's APIs allow you to be able to create integrations with your business systems to provide efficiency, accuracy and context gains.\", 'Sedna recommends the following 3 options for leveraging these APIs in the Document Management space.']\n",
      "Processed paragraph 2\n",
      "['A green tag within Sedna is used to group messages that relate to a business transaction, such as Vessel - Voyage or Linkage ID.']\n",
      "Processed paragraph 3\n",
      "['A blue tag within Sedna is used to add additional context to a message, such as Recap, Final Documents or Certificates.', 'Attributes are the meta data held within a Job Reference, such as Vessel Name, Voyage Reference, Linkage ID or CP Date.', 'Each message inside Sedna is given a unique number upon ingest, allowing messages to be found and actions to be taken using this ID.']\n",
      "Processed paragraph 4\n",
      "['This is a unique number that each Job Reference Tag is given upon creation.', 'This is a unique number that each Category Tag is given upon creation.']\n",
      "Processed paragraph 5\n",
      "['A message can be visible to multiple different mailboxes in Sedna. Sharing a message allows it to be visible to another specified mailbox.', 'An event is something that is triggered by an action in your Sedna system.', 'Event Stream is a list of current events happening within your Sedna System.', 'An End Point is a specific access point to an entity within your Sedna System.']\n",
      "Processed paragraph 6\n",
      "[\"Using Sedna's Event Stream API we allow users to control the saving of documentation in a simple quick action.\", 'Sedna should be set up with two things to allow this method to be efficient: Job Reference Tags and Category Tags.', 'You will use the Job Reference and its attributes plus the Category Tag to retrieve the message ID for download.']\n",
      "Processed paragraph 7\n",
      "['The coloured flow is related to the end user and the grey flow is related to the flow of the automation.', 'Use the event endpoint to capture real time events triggered by actions in your tenant.', 'Sedna preserves one month of events so actions to be completed based on events should be taken within this timeframe.']\n",
      "Processed paragraph 8\n",
      "['Message received - event.message.received', 'Message scheduled (for sending) - event.message.message\\\\_scheduled', 'Message sent - event.message.sent', 'Message shared - event.message.shared', 'Category tag added - event.message.tag.added.category', 'Category tag removed - event.message.tag.removed.category', 'Job reference added - event.message.tag.added.job-reference', 'Job reference removed - event.message.tag.removed.job-reference', 'Draft edited - event.message.draft.edited', 'In the situation where you want to save a document to an alternate system based on the application of a category tag, you would use:', 'Category tag added endpoint looking for the specific Category tag ID identified', 'You would use this to identify the Sedna Message ID for the mail that the tag has been applied to.', 'An example on how to loop specific message events:', 'Read latest events endpoint [GET] {{baseUrl}}/platform/2019-01-01/event/latest', \"Read the 'next' link\"]\n",
      "Processed paragraph 9\n",
      "[\"Loop on the 'next' links. Check on each iteration if anything has changed.\", 'SEDNA plans to implement webhooks for events in the future, which will eliminate the need for a polling loop on events.', 'public function loop\\\\_events() { $loop\\\\_wait = 1; //Seconds //Get the latest event $url = $this->base\\\\_url . \"/event/latest\"; $r = $this->api\\\\_get($url); $url = $r[\\'links\\'][\\'next\\']; //This sets us on the current cursor which we\\'ll loop $last\\\\_id = \\'\\'; do { $r = $this->api\\\\_get($url); foreach($r[\\'data\\'] as $ix=>$data) { $id = $data[\\'id\\']; //If not a new message wait a sec and restart the loop if ($id == $last\\\\_id) {sleep($loop\\\\_wait); continue;}}']\n",
      "Processed paragraph 10\n",
      "['//Get basic event metadata $atts = $data[\\'attributes\\']; $time = $atts[\\'time\\']; $eventType = $atts[\\'eventType\\']; //Only deal with incoming messages using the below //if ($eventType <> \\'event.message.received\\') continue; //Get the message subject $msg_id = $data[\\'relationships\\'][\\'message\\'][\\'data\\'][\\'id\\']; $msg = $this->get_message($msg_id); $subject = $msg[\\'data\\'][\\'attributes\\'][\\'subject\\']; echo \"$time $eventType $id $subject \"; } $last_id = $id; $url = $r[\\'links\\'][\\'next\\']; sleep($loop_wait); } while (true); }', 'Once you have the Message ID you can get message information that you need. This is broken down into two pieces.', 'The job reference applied to the message is accessed via [GET] /platform/2019-01-01/message/{{MessageID}}/relationships/job-reference/.', 'The documents attached to the message can be retrieved using [GET] /platform/2019-01-01/message/{{MessageID}}/relationships/document.']\n",
      "Processed paragraph 11\n",
      "['You can also use this to find the category tags applied if you wish to use them to add extra information for the file path.', 'This can be done using: - 1. [GET] /platform/2019-01-01/message/{{MessageID}}/relationships/category-tag/', 'Using the same document endpoint above you would then download the attachments (documents).', 'public function download\\\\_document($in\\\\_document\\\\_id, $in\\\\_file\\\\_loc = \\'/tmp/sedna\\\\_merge\\') { //Create destination $in\\\\_file\\\\_loc if it doesn\\'t exists if (!file\\\\_exists($in\\\\_file\\\\_loc)) mkdir($in\\\\_file\\\\_loc,0777); //Download the file to the directory given by $in\\\\_file\\\\_loc $url = $this->base\\\\_url . \"/download/document/$in\\\\_document\\\\_id\"; $output\\\\_file = \"$in\\\\_file\\\\_loc/$in\\\\_document\\\\_id.pdf\"; $r = $this->api\\\\_download($url,$output\\\\_file); //api\\\\_download in appendix below return $output\\\\_file; }']\n",
      "Processed paragraph 12\n",
      "['The job reference is related to the business transaction so should give you the path to finding the record to upload to.', 'Job Reference Endpoint [GET] {{baseurl}}/platform/2019-01-01/job-reference', '{ \"data\": { \"type\": \"job-reference\", \"attributes\": { \"name\": \"Vessel Name. - 2202\", \"archived\": false , \"date\": null , \"type\": \"voyage\", \"foreignKey\": \"1667622\", \"attributes\": { \"type\": \"DEFAULT\", \"vesselName\": \"Vessel Name\", \"displayName\": \"Vessel Name - 2202\", \"voyageNumber\": \"2202\", \"imo\": \"930215\" } } } }']\n",
      "Processed paragraph 13\n",
      "['Field ref, Field Name, Description, Format, Examples, and Source are key components of the document.', 'The document outlines various fields and their descriptions, formats, and examples.']\n",
      "Processed paragraph 14\n",
      "['Container for all fields', 'All Job Reference attributes']\n",
      "Processed paragraph 15\n",
      "['| jr-f3       | name         | Job Reference name                                                                                                                            | String                                                                       | Cape Alaska - 12345                                                                                                     | System      |', '| jr-f4       | date         | Created Date associated with transaction                                                                                                      | Iso 8601                                                                     | 2020-02-06T 12:51:47Z                                                                                                   | System      |']\n",
      "Processed paragraph 16\n",
      "['Job Reference type is a string value.', 'Unique id relating to alternate system is a string.']\n",
      "Processed paragraph 17\n",
      "['These are self describing key value pairs.', 'Other key value pairs may be included for future use, see format for string length constraint.', \"Allowed values are 'true' or 'false'.\"]\n",
      "Processed paragraph 18\n",
      "[\"The lowest level attributes section can be varied and attributes can be added in this section to support the customer's configuration.\", 'The data.attributes.name value is what shows as the job reference in SEDNA.', 'The data.type value should indicate the type of job reference, which is useful when more than one job reference is applied.']\n",
      "Processed paragraph 19\n",
      "['These 3 pieces of information should give you the ability to save the documents to your alternate system.', 'The category tag event is the trigger that indicates the message or documents should be saved.', 'The message id allows you to find the job reference id and the documents to be downloaded.', 'The job reference attributes gives you the information to guide you to where the document should be saved.']\n",
      "Processed paragraph 20\n",
      "\n",
      "Extracted 70 key sentences:\n",
      "[\"This document is designed to be a high level overview of leveraging Sedna's API's for Document management purposes.\", 'For full reference to SEDNA API: https://developers.sedna.com/reference', 'Save time by allowing the users to complete a simple action to save documents within an alternate system.', 'Using a common reference you allow ease of filing structure that is consistent across the business.', 'Create a Sedna App to be able to insert documents directly into emails from an alternate system saving time and context switching.', \"Sedna's APIs allow you to be able to create integrations with your business systems to provide efficiency, accuracy and context gains.\", 'Sedna recommends the following 3 options for leveraging these APIs in the Document Management space.', 'A green tag within Sedna is used to group messages that relate to a business transaction, such as Vessel - Voyage or Linkage ID.', 'A blue tag within Sedna is used to add additional context to a message, such as Recap, Final Documents or Certificates.', 'Attributes are the meta data held within a Job Reference, such as Vessel Name, Voyage Reference, Linkage ID or CP Date.', 'Each message inside Sedna is given a unique number upon ingest, allowing messages to be found and actions to be taken using this ID.', 'This is a unique number that each Job Reference Tag is given upon creation.', 'This is a unique number that each Category Tag is given upon creation.', 'A message can be visible to multiple different mailboxes in Sedna. Sharing a message allows it to be visible to another specified mailbox.', 'An event is something that is triggered by an action in your Sedna system.', 'Event Stream is a list of current events happening within your Sedna System.', 'An End Point is a specific access point to an entity within your Sedna System.', \"Using Sedna's Event Stream API we allow users to control the saving of documentation in a simple quick action.\", 'Sedna should be set up with two things to allow this method to be efficient: Job Reference Tags and Category Tags.', 'You will use the Job Reference and its attributes plus the Category Tag to retrieve the message ID for download.', 'The coloured flow is related to the end user and the grey flow is related to the flow of the automation.', 'Use the event endpoint to capture real time events triggered by actions in your tenant.', 'Sedna preserves one month of events so actions to be completed based on events should be taken within this timeframe.', 'Message received - event.message.received', 'Message scheduled (for sending) - event.message.message\\\\_scheduled', 'Message sent - event.message.sent', 'Message shared - event.message.shared', 'Category tag added - event.message.tag.added.category', 'Category tag removed - event.message.tag.removed.category', 'Job reference added - event.message.tag.added.job-reference', 'Job reference removed - event.message.tag.removed.job-reference', 'Draft edited - event.message.draft.edited', 'In the situation where you want to save a document to an alternate system based on the application of a category tag, you would use:', 'Category tag added endpoint looking for the specific Category tag ID identified', 'You would use this to identify the Sedna Message ID for the mail that the tag has been applied to.', 'An example on how to loop specific message events:', 'Read latest events endpoint [GET] {{baseUrl}}/platform/2019-01-01/event/latest', \"Read the 'next' link\", \"Loop on the 'next' links. Check on each iteration if anything has changed.\", 'SEDNA plans to implement webhooks for events in the future, which will eliminate the need for a polling loop on events.', 'public function loop\\\\_events() { $loop\\\\_wait = 1; //Seconds //Get the latest event $url = $this->base\\\\_url . \"/event/latest\"; $r = $this->api\\\\_get($url); $url = $r[\\'links\\'][\\'next\\']; //This sets us on the current cursor which we\\'ll loop $last\\\\_id = \\'\\'; do { $r = $this->api\\\\_get($url); foreach($r[\\'data\\'] as $ix=>$data) { $id = $data[\\'id\\']; //If not a new message wait a sec and restart the loop if ($id == $last\\\\_id) {sleep($loop\\\\_wait); continue;}}', '//Get basic event metadata $atts = $data[\\'attributes\\']; $time = $atts[\\'time\\']; $eventType = $atts[\\'eventType\\']; //Only deal with incoming messages using the below //if ($eventType <> \\'event.message.received\\') continue; //Get the message subject $msg_id = $data[\\'relationships\\'][\\'message\\'][\\'data\\'][\\'id\\']; $msg = $this->get_message($msg_id); $subject = $msg[\\'data\\'][\\'attributes\\'][\\'subject\\']; echo \"$time $eventType $id $subject \"; } $last_id = $id; $url = $r[\\'links\\'][\\'next\\']; sleep($loop_wait); } while (true); }', 'Once you have the Message ID you can get message information that you need. This is broken down into two pieces.', 'The job reference applied to the message is accessed via [GET] /platform/2019-01-01/message/{{MessageID}}/relationships/job-reference/.', 'The documents attached to the message can be retrieved using [GET] /platform/2019-01-01/message/{{MessageID}}/relationships/document.', 'You can also use this to find the category tags applied if you wish to use them to add extra information for the file path.', 'This can be done using: - 1. [GET] /platform/2019-01-01/message/{{MessageID}}/relationships/category-tag/', 'Using the same document endpoint above you would then download the attachments (documents).', 'public function download\\\\_document($in\\\\_document\\\\_id, $in\\\\_file\\\\_loc = \\'/tmp/sedna\\\\_merge\\') { //Create destination $in\\\\_file\\\\_loc if it doesn\\'t exists if (!file\\\\_exists($in\\\\_file\\\\_loc)) mkdir($in\\\\_file\\\\_loc,0777); //Download the file to the directory given by $in\\\\_file\\\\_loc $url = $this->base\\\\_url . \"/download/document/$in\\\\_document\\\\_id\"; $output\\\\_file = \"$in\\\\_file\\\\_loc/$in\\\\_document\\\\_id.pdf\"; $r = $this->api\\\\_download($url,$output\\\\_file); //api\\\\_download in appendix below return $output\\\\_file; }', 'The job reference is related to the business transaction so should give you the path to finding the record to upload to.', 'Job Reference Endpoint [GET] {{baseurl}}/platform/2019-01-01/job-reference', '{ \"data\": { \"type\": \"job-reference\", \"attributes\": { \"name\": \"Vessel Name. - 2202\", \"archived\": false , \"date\": null , \"type\": \"voyage\", \"foreignKey\": \"1667622\", \"attributes\": { \"type\": \"DEFAULT\", \"vesselName\": \"Vessel Name\", \"displayName\": \"Vessel Name - 2202\", \"voyageNumber\": \"2202\", \"imo\": \"930215\" } } } }', 'Field ref, Field Name, Description, Format, Examples, and Source are key components of the document.', 'The document outlines various fields and their descriptions, formats, and examples.', 'Container for all fields', 'All Job Reference attributes', '| jr-f3       | name         | Job Reference name                                                                                                                            | String                                                                       | Cape Alaska - 12345                                                                                                     | System      |', '| jr-f4       | date         | Created Date associated with transaction                                                                                                      | Iso 8601                                                                     | 2020-02-06T 12:51:47Z                                                                                                   | System      |', 'Job Reference type is a string value.', 'Unique id relating to alternate system is a string.', 'These are self describing key value pairs.', 'Other key value pairs may be included for future use, see format for string length constraint.', \"Allowed values are 'true' or 'false'.\", \"The lowest level attributes section can be varied and attributes can be added in this section to support the customer's configuration.\", 'The data.attributes.name value is what shows as the job reference in SEDNA.', 'The data.type value should indicate the type of job reference, which is useful when more than one job reference is applied.', 'These 3 pieces of information should give you the ability to save the documents to your alternate system.', 'The category tag event is the trigger that indicates the message or documents should be saved.', 'The message id allows you to find the job reference id and the documents to be downloaded.', 'The job reference attributes gives you the information to guide you to where the document should be saved.']\n"
     ]
    }
   ],
   "source": [
    "# Extract key sentences from each paragraph\n",
    "text_propositions = []\n",
    "\n",
    "# for i, para in enumerate(chunked_texts[:15]):  # Limit to the first 5 paragraphs as an example\n",
    "for i, para in enumerate(chunked_texts):  # Limit to the first 5 paragraphs as an example\n",
    "    query = {\"question\": para}\n",
    "    result = query_analyzer.invoke(query)\n",
    "    sentences = result.sentences\n",
    "    # split the sentences into a list of strings, with new lines\n",
    "    # sentences = sentences.split(\"\\n\")\n",
    "    print(sentences) \n",
    "    # Add the sentences to the text_propositions\n",
    "    text_propositions.extend(sentences)\n",
    "    print(f\"Processed paragraph {i + 1}\")\n",
    "\n",
    "# Final output\n",
    "print(f\"\\nExtracted {len(text_propositions)} key sentences:\")\n",
    "print(text_propositions)  # Display the first 10 key sentences"
   ]
  },
  {
   "cell_type": "code",
   "execution_count": 50,
   "metadata": {},
   "outputs": [],
   "source": [
    "import pandas as pd\n",
    "\n",
    "# Convert chunked_texts to a DataFrame\n",
    "chunk_data = [{\"Master Data\": i, \"content\": chunk} for i, chunk in enumerate(text_propositions)]\n",
    "df_chunks = pd.DataFrame(chunk_data)\n",
    "\n",
    "csv_path = './chunked/Master.docx.csv'\n",
    "df_chunks.to_csv(csv_path, index=False)\n",
    "\n",
    "json_path = './chunked/Master.docx.json'\n",
    "df_chunks.to_json(json_path, orient=\"records\", lines=True)"
   ]
  },
  {
   "cell_type": "code",
   "execution_count": null,
   "metadata": {},
   "outputs": [],
   "source": []
  }
 ],
 "metadata": {
  "kernelspec": {
   "display_name": "base",
   "language": "python",
   "name": "python3"
  },
  "language_info": {
   "codemirror_mode": {
    "name": "ipython",
    "version": 3
   },
   "file_extension": ".py",
   "mimetype": "text/x-python",
   "name": "python",
   "nbconvert_exporter": "python",
   "pygments_lexer": "ipython3",
   "version": "3.12.7"
  }
 },
 "nbformat": 4,
 "nbformat_minor": 2
}
